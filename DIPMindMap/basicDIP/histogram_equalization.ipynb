{
 "cells": [
  {
   "cell_type": "markdown",
   "metadata": {},
   "source": [
    "# Histogram Equalization\n",
    "Histogram equalization concept and algorithm applied to digital image color processing."
   ]
  },
  {
   "cell_type": "code",
   "execution_count": null,
   "metadata": {},
   "outputs": [],
   "source": [
    "%matplotlib inline\n",
    "import matplotlib as mpl\n",
    "import matplotlib.pyplot as plt\n",
    "import numpy as np\n",
    "import imageio\n",
    "\n",
    "from _utils import *"
   ]
  },
  {
   "cell_type": "markdown",
   "metadata": {},
   "source": [
    "## 1. Grayscale images\n",
    "---\n",
    "*Histogram equalization* of a grayscale images $x$ (single channel) considers the *probability density* of the gray levels $i$, defined by:\n",
    "\n",
    "$$ \\large\n",
    "p_x(i)=p(x=i)=\\frac{n_i}{n}, \\quad 0 \\leq i \\leq L\n",
    "$$\n",
    "\n",
    "where:\n",
    "\n",
    "- $n_i$ is the number of occurrences of gray level $i$\n",
    "- $n$ total number of pixels\n",
    "- $L$ total number of grey levels (8bits images this value is 256)\n",
    "\n",
    "Considering that we have the ordered *probability density* $p_x(i)$, the equalization is given by the [cumulative distribution function](https://en.wikipedia.org/wiki/Cumulative_distribution_function), defined by:\n",
    "\n",
    "$$ \\large\n",
    "cdf_x(i)=\\sum_{j=0}^{i}p_x(j)\n",
    "$$\n",
    "\n",
    "The motivation comes from the continuous space concept of *CDF*, which could be understanded by:\n",
    "\n",
    "$$\n",
    "CDF_X(x)=\\int_{-\\infty}^{x}p_x(t)dt\n",
    "$$"
   ]
  },
  {
   "cell_type": "code",
   "execution_count": null,
   "metadata": {},
   "outputs": [],
   "source": [
    "# Read grayscale image\n",
    "img_float = imageio.imread('../_data/ship.png')"
   ]
  },
  {
   "cell_type": "code",
   "execution_count": null,
   "metadata": {},
   "outputs": [],
   "source": [
    "summary(img_float)"
   ]
  },
  {
   "cell_type": "code",
   "execution_count": null,
   "metadata": {},
   "outputs": [],
   "source": [
    "# Change range from [0-255] to [0.0-1.0]\n",
    "img_float = img_float/(2**8 - 1)\n",
    "summary(img_float)"
   ]
  },
  {
   "cell_type": "code",
   "execution_count": null,
   "metadata": {},
   "outputs": [],
   "source": [
    "# Visualize the input image histogram\n",
    "histogram(img_float, bins=2**8, interval=[0, 1])"
   ]
  },
  {
   "cell_type": "markdown",
   "metadata": {},
   "source": [
    "One easier and more performatic way to do the process of histogram equalization is by ordering the gray values and finding its sorted indices, instead of finding the probability distribution and do the cummulative sum of those values. At the end of this process, it is necessary to normalize the output value by the total number of pixels. The result is exactly the same."
   ]
  },
  {
   "cell_type": "code",
   "execution_count": null,
   "metadata": {},
   "outputs": [],
   "source": [
    "def eqHist1(matrix_in):\n",
    "    # Read input grayscale image\n",
    "    matrix_in = matrix_in.copy()\n",
    "    N1, N2 = matrix_in.shape\n",
    "    # Flat image to be sorted\n",
    "    flat = matrix_in.ravel()\n",
    "    # Sort the pixels\n",
    "    sort = np.sort(flat)\n",
    "    # Find the sorted index for each gray value\n",
    "    search = sort.searchsorted(matrix_in)\n",
    "    # Normalize the output\n",
    "    norm = search/(N1*N2 - 1)\n",
    "    return norm\n",
    "\n",
    "img_float_eq = eqHist1(img_float)"
   ]
  },
  {
   "cell_type": "code",
   "execution_count": null,
   "metadata": {},
   "outputs": [],
   "source": [
    "# Visualized the histogram of the equalized image\n",
    "histogram(img_float_eq, bins=2**8, interval=[0, 1])"
   ]
  },
  {
   "cell_type": "markdown",
   "metadata": {},
   "source": [
    "## 2. Color images\n",
    "---\n",
    "Applies the same concept of grayscale images on multi-channel images."
   ]
  },
  {
   "cell_type": "code",
   "execution_count": null,
   "metadata": {},
   "outputs": [],
   "source": [
    "img_rgb = imageio.imread('../_data/aerial03.png')/(2**8 - 1)"
   ]
  },
  {
   "cell_type": "code",
   "execution_count": null,
   "metadata": {},
   "outputs": [],
   "source": [
    "summary(img_rgb)"
   ]
  },
  {
   "cell_type": "code",
   "execution_count": null,
   "metadata": {},
   "outputs": [],
   "source": [
    "histogram(img_rgb, bins=2**8, interval=[0, 1])"
   ]
  },
  {
   "cell_type": "markdown",
   "metadata": {},
   "source": [
    "### 2.1. RGB Histogram equalization\n",
    "---\n",
    "Applies histogram equalization, stretching each channel separately. This process does not preserve the hue distribution what it means that the colors might be changed."
   ]
  },
  {
   "cell_type": "code",
   "execution_count": null,
   "metadata": {},
   "outputs": [],
   "source": [
    "def eqHist3(img_in):\n",
    "    img_in = img_in.copy()\n",
    "    # Split channels\n",
    "    R = img_in[:,:,0]\n",
    "    G = img_in[:,:,1]\n",
    "    B = img_in[:,:,2]\n",
    "    N1, N2, _ = img_in.shape\n",
    "    # Sort channels\n",
    "    Rs = np.sort(R.ravel())\n",
    "    Gs = np.sort(G.ravel())\n",
    "    Bs = np.sort(B.ravel())\n",
    "    # Find sorted indices\n",
    "    R[:,:] = Rs.searchsorted(R)\n",
    "    G[:,:] = Gs.searchsorted(G)\n",
    "    B[:,:] = Bs.searchsorted(B)\n",
    "    # Return normalized result\n",
    "    return img_in/(N1*N2 - 1)\n",
    "\n",
    "img_rgb_eq = eqHist3(img_rgb)"
   ]
  },
  {
   "cell_type": "code",
   "execution_count": null,
   "metadata": {},
   "outputs": [],
   "source": [
    "summary(img_rgb_eq)"
   ]
  },
  {
   "cell_type": "code",
   "execution_count": null,
   "metadata": {},
   "outputs": [],
   "source": [
    "%%time\n",
    "histogram(img_rgb_eq, bins=2**8, interval=[0, 1])"
   ]
  },
  {
   "cell_type": "markdown",
   "metadata": {},
   "source": [
    "### 2.2. HSV Histogram equalization\n",
    "---\n",
    "Applies histogram equalization preserving the hue distribution. This process can affect the saturation value or not."
   ]
  },
  {
   "cell_type": "code",
   "execution_count": null,
   "metadata": {},
   "outputs": [],
   "source": [
    "def eqHist3hsv(img_in, saturation=False):\n",
    "    img_rgb = img_in.copy()\n",
    "    # Convert from RGB to HSV\n",
    "    img_hsv = mpl.colors.rgb_to_hsv(img_rgb)\n",
    "    N1, N2, _ = img_hsv.shape\n",
    "    if saturation:\n",
    "        # If saturation is true\n",
    "        # stretches the saturation component\n",
    "        S = img_hsv[:,:,1]\n",
    "        Ss = np.sort(S.ravel())\n",
    "        S[:,:] = Ss.searchsorted(S)/(N1*N2 - 1)\n",
    "    # Stretches the value component\n",
    "    V = img_hsv[:,:,2]\n",
    "    Vs = np.sort(V.ravel())\n",
    "    V[:,:] = Vs.searchsorted(V)/(N1*N2 - 1)\n",
    "    return mpl.colors.hsv_to_rgb(img_hsv)\n",
    "\n",
    "img_hsv_eq = eqHist3hsv(img_rgb)"
   ]
  },
  {
   "cell_type": "code",
   "execution_count": null,
   "metadata": {},
   "outputs": [],
   "source": [
    "summary(img_hsv_eq)"
   ]
  },
  {
   "cell_type": "code",
   "execution_count": null,
   "metadata": {},
   "outputs": [],
   "source": [
    "%%time\n",
    "histogram(img_hsv_eq, bins=2**8, interval=[0, 1])"
   ]
  },
  {
   "cell_type": "markdown",
   "metadata": {},
   "source": [
    "### Same process but stretching the saturation values."
   ]
  },
  {
   "cell_type": "code",
   "execution_count": null,
   "metadata": {},
   "outputs": [],
   "source": [
    "img_hsv_eq2 = eqHist3hsv(img_rgb, saturation=True)"
   ]
  },
  {
   "cell_type": "code",
   "execution_count": null,
   "metadata": {},
   "outputs": [],
   "source": [
    "summary(img_hsv_eq2)"
   ]
  },
  {
   "cell_type": "code",
   "execution_count": null,
   "metadata": {},
   "outputs": [],
   "source": [
    "%%time\n",
    "histogram(img_hsv_eq2, bins=2**8, interval=[0, 1])"
   ]
  }
 ],
 "metadata": {
  "kernelspec": {
   "display_name": "Python 3.9.7 ('base')",
   "language": "python",
   "name": "python3"
  },
  "language_info": {
   "codemirror_mode": {
    "name": "ipython",
    "version": 3
   },
   "file_extension": ".py",
   "mimetype": "text/x-python",
   "name": "python",
   "nbconvert_exporter": "python",
   "pygments_lexer": "ipython3",
   "version": "3.9.7"
  },
  "vscode": {
   "interpreter": {
    "hash": "cc2379f458d55a7a1b90305c55461d88bd7f754fbea20f9190016acffac2dcca"
   }
  }
 },
 "nbformat": 4,
 "nbformat_minor": 2
}
