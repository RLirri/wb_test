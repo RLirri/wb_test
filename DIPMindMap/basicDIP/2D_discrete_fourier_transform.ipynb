{
 "cells": [
  {
   "cell_type": "markdown",
   "metadata": {},
   "source": [
    "# Bi-dimensional Discrete Fourier Transformnal discrete space Fourier transform.\n",
    "\n",
    "$O(n²)$ >> *The running time will be quite long*"
   ]
  },
  {
   "cell_type": "code",
   "execution_count": null,
   "metadata": {},
   "outputs": [],
   "source": [
    "%matplotlib inline\n",
    "import matplotlib.pyplot as plt\n",
    "import numpy as np\n",
    "import imageio\n",
    "\n",
    "from _utils import *"
   ]
  },
  {
   "cell_type": "code",
   "execution_count": null,
   "metadata": {},
   "outputs": [],
   "source": [
    "image = imageio.imread('../_data/cameraman.png')\n",
    "s = 4; image = image[::s, ::s]/255\n",
    "N1, N2 = image.shape"
   ]
  },
  {
   "cell_type": "code",
   "execution_count": null,
   "metadata": {},
   "outputs": [],
   "source": [
    "histogram(image, interval=[0, 1])"
   ]
  },
  {
   "cell_type": "markdown",
   "metadata": {},
   "source": [
    "## 1. Discrete space Fourier transform\n",
    "---\n",
    "Transforming from spatial to frequency domain using *Discrete Fourier Transform*, defined by:\n",
    "\n",
    "$$ \\large\n",
    "X(\\omega_1,\\omega_2)=\\sum_{n_1=0}^{N_1-1}\\sum_{n_2=0}^{N_2-1}x(n_1,n_2)e^{-j2\\pi\\left(\\frac{\\omega_1 n_1}{N_1}+\\frac{\\omega_2 n_2}{N_2}\\right)}\n",
    "$$"
   ]
  },
  {
   "cell_type": "code",
   "execution_count": null,
   "metadata": {},
   "outputs": [],
   "source": [
    "def DFT2D(x, shift=True):\n",
    "    '''\n",
    "    Discrete space fourier transform\n",
    "    x: Input matrix\n",
    "    '''\n",
    "    pi2 = 2*np.pi\n",
    "    N1, N2 = x.shape\n",
    "    X = np.zeros((N1, N2), dtype=np.complex64)\n",
    "    n1, n2 = np.mgrid[0:N1, 0:N2]\n",
    "    for w1 in range(N1):\n",
    "        for w2 in range(N2):\n",
    "            j2pi = np.zeros((N1, N2), dtype=np.complex64)\n",
    "            j2pi.imag = pi2*(w1*n1/N1 + w2*n2/N2)\n",
    "            X[w1, w2] = np.sum(x*np.exp(-j2pi))\n",
    "    if shift:\n",
    "        X = np.roll(X, N1//2, axis=0)\n",
    "        X = np.roll(X, N2//2, axis=1)\n",
    "    return X"
   ]
  },
  {
   "cell_type": "code",
   "execution_count": null,
   "metadata": {},
   "outputs": [],
   "source": [
    "%%time\n",
    "IMAGE = DFT2D(image)"
   ]
  },
  {
   "cell_type": "code",
   "execution_count": null,
   "metadata": {},
   "outputs": [],
   "source": [
    "xX = np.array([image, np.log10(1 + abs(IMAGE))])\n",
    "panel(xX, [2, 1], text_color='green',\n",
    "      texts=['Input image', 'Spectrum'])"
   ]
  },
  {
   "cell_type": "markdown",
   "metadata": {},
   "source": [
    "## 2. Inverse discrete space Fourier transform\n",
    "---\n",
    "Transforming from frequency to spatial domain using *Inverse Discrete Fourier Transform*, defined by:\n",
    "\n",
    "$$ \\large\n",
    "x(n_1,n_2)=\\frac{1}{N_1 N_2}\\sum_{k_1=0}^{N_1-1}\\sum_{k_2=0}^{N_2-1}X(k_1,k_2)e^{j2\\pi\\left(\\frac{n_1 k_1}{N_1}+\\frac{n_2 k_2}{N_2}\\right)}\n",
    "$$"
   ]
  },
  {
   "cell_type": "code",
   "execution_count": null,
   "metadata": {},
   "outputs": [],
   "source": [
    "def iDFT2D(X, shift=True):\n",
    "    '''\n",
    "    Inverse discrete space fourier transform\n",
    "    X: Complex matrix\n",
    "    '''\n",
    "    pi2 = 2*np.pi\n",
    "    N1, N2 = X.shape\n",
    "    x = np.zeros((N1, N2))\n",
    "    k1, k2 = np.mgrid[0:N1, 0:N2]\n",
    "    if shift:\n",
    "        X = np.roll(X, -N1//2, axis=0)\n",
    "        X = np.roll(X, -N2//2, axis=1)\n",
    "    for n1 in range(N1):\n",
    "        for n2 in range(N2):\n",
    "            j2pi = np.zeros((N1, N2), dtype=np.complex64)\n",
    "            j2pi.imag = pi2*(n1*k1/N1 + n2*k2/N2)\n",
    "            x[n1, n2] = abs(np.sum(X*np.exp(j2pi)))\n",
    "    return 1/(N1*N2)*x"
   ]
  },
  {
   "cell_type": "code",
   "execution_count": null,
   "metadata": {},
   "outputs": [],
   "source": [
    "%%time\n",
    "image_ = iDFT2D(IMAGE)"
   ]
  },
  {
   "cell_type": "code",
   "execution_count": null,
   "metadata": {},
   "outputs": [],
   "source": [
    "Xx_ = np.array([np.log10(1 + abs(IMAGE)), image_])\n",
    "panel(Xx_, [2, 1], text_color='green',\n",
    "      texts=['Spectrum', 'Reconstructed image'])"
   ]
  },
  {
   "cell_type": "markdown",
   "metadata": {},
   "source": [
    "## 3. Spatial Frequency Filtering\n",
    "---\n",
    "Gaussian filtering, defined by the multiplication in frequency domain between the filter $H$ and the spectrum $X$.\n",
    "\n",
    "$$ \\large\n",
    "G(u,v)=H(u,v)X(u,v)\n",
    "$$\n",
    "\n",
    "where:\n",
    "\n",
    "$$ \\large\n",
    "H(u,v)=\\frac{1}{2\\pi \\sigma^2}e^{-\\frac{u^2+v^2}{2\\sigma^2}}\n",
    "$$"
   ]
  },
  {
   "cell_type": "code",
   "execution_count": null,
   "metadata": {},
   "outputs": [],
   "source": [
    "N1, N2 = image.shape\n",
    "u, v = np.mgrid[-N1//2:N1//2, -N2//2:N2//2]/max(N1, N2)\n",
    "\n",
    "sigma = 0.2\n",
    "H = 1/(2*np.pi*sigma**2)*np.exp(-(u**2 + v**2)/(2*sigma**2))"
   ]
  },
  {
   "cell_type": "code",
   "execution_count": null,
   "metadata": {},
   "outputs": [],
   "source": [
    "%%time\n",
    "image__ = iDFT2D(H*IMAGE)"
   ]
  },
  {
   "cell_type": "code",
   "execution_count": null,
   "metadata": {},
   "outputs": [],
   "source": [
    "Hx__ = np.array([H, image__])\n",
    "panel(Hx__, (2, 1), text_color='green',\n",
    "      texts=[r'Gaussian filter $\\sigma=0.5$', 'Filtered image'])"
   ]
  },
  {
   "cell_type": "code",
   "execution_count": null,
   "metadata": {},
   "outputs": [],
   "source": [
    "xx__ = np.array([image, image__])\n",
    "panel(xx__, (2, 1), text_color='green',\n",
    "      texts=['Input image', 'Filtered image'])"
   ]
  },
  {
   "cell_type": "markdown",
   "metadata": {},
   "source": [
    "# Iterative reconstruction visualization\n",
    "---\n",
    "Demonstration of the iterative reconstruction of a multi-channel image from its fourier spectrum."
   ]
  },
  {
   "cell_type": "code",
   "execution_count": null,
   "metadata": {},
   "outputs": [],
   "source": [
    "from IPython.display import HTML\n",
    "\n",
    "HTML(\n",
    "    '<iframe width=\"960\" height=\"540\" src=\"https://www.youtube.com/embed/6GjjE6Q3rek\" frameborder=\"0\" allowfullscreen></iframe>'\n",
    ")"
   ]
  }
 ],
 "metadata": {
  "kernelspec": {
   "display_name": "Python 3.9.6 64-bit",
   "language": "python",
   "name": "python3"
  },
  "language_info": {
   "codemirror_mode": {
    "name": "ipython",
    "version": 3
   },
   "file_extension": ".py",
   "mimetype": "text/x-python",
   "name": "python",
   "nbconvert_exporter": "python",
   "pygments_lexer": "ipython3",
   "version": "3.9.6"
  },
  "vscode": {
   "interpreter": {
    "hash": "aee8b7b246df8f9039afb4144a1f6fd8d2ca17a180786b69acc140d282b71a49"
   }
  }
 },
 "nbformat": 4,
 "nbformat_minor": 2
}
