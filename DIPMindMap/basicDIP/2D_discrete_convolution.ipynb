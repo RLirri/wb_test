{
 "cells": [
  {
   "cell_type": "markdown",
   "metadata": {},
   "source": [
    "# Bi-dimensional Discrete Convolution\n",
    "Naive implementation of bi-dimensional discrete convolution."
   ]
  },
  {
   "cell_type": "code",
   "execution_count": 9,
   "metadata": {},
   "outputs": [],
   "source": [
    "%matplotlib inline\n",
    "import matplotlib as mpl\n",
    "import matplotlib.pyplot as plt\n",
    "import numpy as np\n",
    "\n",
    "import imageio\n",
    "\n",
    "from numba import jit, prange\n",
    "from utils import *"
   ]
  },
  {
   "cell_type": "code",
   "execution_count": 2,
   "metadata": {},
   "outputs": [],
   "source": [
    "import warnings\n",
    "warnings.filterwarnings('ignore')"
   ]
  },
  {
   "cell_type": "code",
   "execution_count": 3,
   "metadata": {},
   "outputs": [],
   "source": [
    "M, N = 7, 7\n",
    "x = np.zeros((M, N))\n",
    "x[M//2, N//2] = 1\n",
    "h = np.arange(9).reshape(3, 3) + 1"
   ]
  },
  {
   "cell_type": "markdown",
   "metadata": {},
   "source": [
    "$$ \\large \\displaystyle\n",
    "(h*x)[n_1, n_2]=\\sum_{k_1=-\\infty}^{\\infty}\\sum_{k_2=-\\infty}^{\\infty}h(k_1, k_2)x(n_1-k_1,n_2-k_2)\n",
    "$$"
   ]
  },
  {
   "cell_type": "code",
   "execution_count": 4,
   "metadata": {},
   "outputs": [
    {
     "name": "stdout",
     "output_type": "stream",
     "text": [
      "[[0. 0. 0. 0. 0. 0. 0.]\n",
      " [0. 0. 0. 0. 0. 0. 0.]\n",
      " [0. 0. 0. 0. 0. 0. 0.]\n",
      " [0. 0. 0. 1. 0. 0. 0.]\n",
      " [0. 0. 0. 0. 0. 0. 0.]\n",
      " [0. 0. 0. 0. 0. 0. 0.]\n",
      " [0. 0. 0. 0. 0. 0. 0.]] input\n",
      "\n",
      "[[1 2 3]\n",
      " [4 5 6]\n",
      " [7 8 9]] kernel\n",
      "\n",
      "[[0. 0. 0. 0. 0. 0. 0.]\n",
      " [0. 0. 0. 0. 0. 0. 0.]\n",
      " [0. 0. 9. 8. 7. 0. 0.]\n",
      " [0. 0. 6. 5. 4. 0. 0.]\n",
      " [0. 0. 3. 2. 1. 0. 0.]\n",
      " [0. 0. 0. 0. 0. 0. 0.]\n",
      " [0. 0. 0. 0. 0. 0. 0.]] convolution\n",
      "\n"
     ]
    }
   ],
   "source": [
    "@jit(nopython=True, parallel=True)\n",
    "def convolve(x, h):\n",
    "    xh, xw = x.shape\n",
    "    hh, hw = h.shape\n",
    "    # Kernel radius\n",
    "    rh, rw = np.array(h.shape)//2\n",
    "    # Init output\n",
    "    output = np.zeros(x.shape)\n",
    "    for n1 in prange(rh, xh-rh):\n",
    "        for n2 in prange(rw, xw-rw):\n",
    "            value = 0\n",
    "            for k1 in prange(hh):\n",
    "                for k2 in prange(hw):\n",
    "                    value += h[k1, k2]*x[n1 + k1 - rh, n2 + k2 - rw]\n",
    "            output[n1, n2] = value\n",
    "    return output\n",
    "\n",
    "print(x, end=' input\\n\\n')\n",
    "print(h, end=' kernel\\n\\n')\n",
    "print(convolve(x, h), end=' convolution\\n\\n')"
   ]
  },
  {
   "cell_type": "markdown",
   "metadata": {},
   "source": [
    "## Spatial filtering\n",
    "---\n",
    "Spatial filtering by the application of *discrete convolution* on images."
   ]
  },
  {
   "cell_type": "code",
   "execution_count": 5,
   "metadata": {},
   "outputs": [],
   "source": [
    "img_in = imageio.imread('_data/pimentos.png')/255\n",
    "img_in = np.median(img_in, axis=2)"
   ]
  },
  {
   "cell_type": "code",
   "execution_count": 11,
   "metadata": {},
   "outputs": [
    {
     "data": {
      "text/plain": [
       "(array([262144]), array([0, 1]))"
      ]
     },
     "execution_count": 11,
     "metadata": {},
     "output_type": "execute_result"
    }
   ],
   "source": [
    "np.histogram(img_in, [0, 1])"
   ]
  },
  {
   "cell_type": "code",
   "execution_count": 12,
   "metadata": {},
   "outputs": [
    {
     "data": {
      "text/plain": [
       "(array([4096]), array([0.       , 0.0051859]))"
      ]
     },
     "execution_count": 12,
     "metadata": {},
     "output_type": "execute_result"
    }
   ],
   "source": [
    "# Kernel definition\n",
    "size = 64j\n",
    "u, v = np.mgrid[-1:1:size, -1:1:size]\n",
    "radial = (64*u**2 + v**2)**0.5\n",
    "kernel = np.exp(-2*radial**2)\n",
    "kernel /= kernel.sum()\n",
    "np.histogram(kernel, [0, kernel.max()])"
   ]
  },
  {
   "cell_type": "code",
   "execution_count": 14,
   "metadata": {},
   "outputs": [
    {
     "name": "stdout",
     "output_type": "stream",
     "text": [
      "CPU times: user 4.8 s, sys: 148 ms, total: 4.95 s\n",
      "Wall time: 530 ms\n"
     ]
    },
    {
     "data": {
      "text/plain": [
       "(array([262144]), array([0, 1]))"
      ]
     },
     "execution_count": 14,
     "metadata": {},
     "output_type": "execute_result"
    }
   ],
   "source": [
    "%%time\n",
    "r = int(size.imag)\n",
    "# Padding zero\n",
    "img_pad = np.pad(\n",
    "    img_in,\n",
    "    ((r, r), (r, r)),\n",
    "    'edge'\n",
    ")\n",
    "# Convolution\n",
    "conv2d = convolve(img_pad, kernel)[r:-r, r:-r]\n",
    "np.histogram(conv2d,[0, 1])"
   ]
  }
 ],
 "metadata": {
  "kernelspec": {
   "display_name": "Python 3.9.7 ('base')",
   "language": "python",
   "name": "python3"
  },
  "language_info": {
   "codemirror_mode": {
    "name": "ipython",
    "version": 3
   },
   "file_extension": ".py",
   "mimetype": "text/x-python",
   "name": "python",
   "nbconvert_exporter": "python",
   "pygments_lexer": "ipython3",
   "version": "3.9.7"
  },
  "vscode": {
   "interpreter": {
    "hash": "cc2379f458d55a7a1b90305c55461d88bd7f754fbea20f9190016acffac2dcca"
   }
  }
 },
 "nbformat": 4,
 "nbformat_minor": 2
}
